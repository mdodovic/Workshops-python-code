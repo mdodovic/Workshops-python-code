{
 "cells": [
  {
   "cell_type": "markdown",
   "metadata": {
    "id": "v_0Yr_VuyY3f"
   },
   "source": [
    "**Učitavanje neophodnih modula za rad**"
   ]
  },
  {
   "cell_type": "code",
   "execution_count": 1,
   "metadata": {
    "executionInfo": {
     "elapsed": 687,
     "status": "ok",
     "timestamp": 1616151413147,
     "user": {
      "displayName": "Marija Milutinović",
      "photoUrl": "https://lh3.googleusercontent.com/a-/AOh14GjTeRBI_pcdUQYABcM0Qc-dPYS1INYcfmaXqbUqWw=s64",
      "userId": "08163395735167004899"
     },
     "user_tz": -60
    },
    "id": "BZEPHZ8xyaCF"
   },
   "outputs": [],
   "source": [
    "# Komentar \n",
    "import numpy as np # Rad sa matricama i matematickim operacijama nad njima\n",
    "import matplotlib.pyplot as plt # Iscrtavanje grafika\n",
    "import cmath # Rad sa kompleksnim brojevima \n",
    "import random # Rad sa radnom brojevima"
   ]
  },
  {
   "cell_type": "markdown",
   "metadata": {
    "id": "a26Edkut1GCy"
   },
   "source": [
    "**Definicije skalara, vektora, matrica**"
   ]
  },
  {
   "cell_type": "code",
   "execution_count": 2,
   "metadata": {
    "colab": {
     "base_uri": "https://localhost:8080/"
    },
    "executionInfo": {
     "elapsed": 734,
     "status": "ok",
     "timestamp": 1616157357297,
     "user": {
      "displayName": "Marija Milutinović",
      "photoUrl": "https://lh3.googleusercontent.com/a-/AOh14GjTeRBI_pcdUQYABcM0Qc-dPYS1INYcfmaXqbUqWw=s64",
      "userId": "08163395735167004899"
     },
     "user_tz": -60
    },
    "id": "RV6i642J1JKh",
    "outputId": "24f8966f-ebad-4003-8324-9476548e0fde"
   },
   "outputs": [
    {
     "name": "stdout",
     "output_type": "stream",
     "text": [
      "5 0.7071067811865476 1.0471975511965976 (1+1j)\n",
      "[ 2  4  6  8 10]\n",
      "[ 2.  4.  6.  8. 10.]\n",
      "[[1. 1. 1. 1.]\n",
      " [1. 1. 1. 1.]\n",
      " [1. 1. 1. 1.]]\n",
      "[4 5 6]\n"
     ]
    }
   ],
   "source": [
    "# Skalar\n",
    "a = 5\n",
    "b = np.sqrt(2)/2\n",
    "c = np.pi/3 #(math.pi/3) \n",
    "d = complex(1, 1)\n",
    "\n",
    "print(a, b, c, d)\n",
    "\n",
    "# Vektor\n",
    "\n",
    "A1 = np.array([2, 4, 6, 8, 10]) # Elemente se moraju se odvojiti zarezima\n",
    "A2 = np.linspace(2, 10, 5)\n",
    "B = np.ones(shape = (3, 4))\n",
    "C = np.array([[1, 2, 3], [4, 5, 6]])\n",
    "\n",
    "print(A1)\n",
    "print(A2)\n",
    "print(B)\n",
    "# Indeksiranje pocinje od 0 \n",
    "print(C[1, :])"
   ]
  },
  {
   "cell_type": "markdown",
   "metadata": {
    "id": "bi4G8hqzgtzz"
   },
   "source": [
    "**Liste, tuple, rečnik**"
   ]
  },
  {
   "cell_type": "code",
   "execution_count": 3,
   "metadata": {
    "colab": {
     "base_uri": "https://localhost:8080/"
    },
    "executionInfo": {
     "elapsed": 1131,
     "status": "ok",
     "timestamp": 1616150859822,
     "user": {
      "displayName": "Marija Milutinović",
      "photoUrl": "https://lh3.googleusercontent.com/a-/AOh14GjTeRBI_pcdUQYABcM0Qc-dPYS1INYcfmaXqbUqWw=s64",
      "userId": "08163395735167004899"
     },
     "user_tz": -60
    },
    "id": "lp0QTjcZhiGw",
    "outputId": "2b2cce7c-0365-45eb-c956-a565f84491c1"
   },
   "outputs": [
    {
     "name": "stdout",
     "output_type": "stream",
     "text": [
      "[2, 3, 5, 6, 7]\n",
      "[0, 1, 2, 3, 4]\n",
      "5\n",
      "['Jack', 'Anna']\n",
      "[26, 25]\n"
     ]
    }
   ],
   "source": [
    "# Lista \n",
    "L1 = [2, 3, 5, 6, 7]\n",
    "L2 = list(range(5))\n",
    "\n",
    "print(L1)\n",
    "print(L2)\n",
    "print(len(L2))\n",
    "\n",
    "# Tuple \n",
    "coordinate = (5, 4)\n",
    "\n",
    "# Dictionary \n",
    "\n",
    "d = {'name': ['Jack', 'Anna'], 'age': [26, 25]}\n",
    "\n",
    "for key in d.keys():\n",
    "  print(d[key])"
   ]
  },
  {
   "cell_type": "markdown",
   "metadata": {
    "id": "CJL9b2iUe4bD"
   },
   "source": [
    "**Matematičke funkcije**\n"
   ]
  },
  {
   "cell_type": "code",
   "execution_count": 4,
   "metadata": {
    "colab": {
     "base_uri": "https://localhost:8080/"
    },
    "executionInfo": {
     "elapsed": 773,
     "status": "ok",
     "timestamp": 1616152253325,
     "user": {
      "displayName": "Marija Milutinović",
      "photoUrl": "https://lh3.googleusercontent.com/a-/AOh14GjTeRBI_pcdUQYABcM0Qc-dPYS1INYcfmaXqbUqWw=s64",
      "userId": "08163395735167004899"
     },
     "user_tz": -60
    },
    "id": "KBf90iZFgb5z",
    "outputId": "d868a512-04ba-4767-b259-f510b74e4d73"
   },
   "outputs": [
    {
     "data": {
      "text/plain": [
       "0.7853981633974484"
      ]
     },
     "execution_count": 4,
     "metadata": {},
     "output_type": "execute_result"
    }
   ],
   "source": [
    "np.arcsin(b) # math \n",
    "\n",
    "# https://numpy.org/doc/stable/reference/routines.math.html"
   ]
  },
  {
   "cell_type": "markdown",
   "metadata": {
    "id": "lkt4aXA0ggtC"
   },
   "source": [
    "**Korisne funkcije za rad sa nizovima i matricama**"
   ]
  },
  {
   "cell_type": "code",
   "execution_count": 5,
   "metadata": {
    "colab": {
     "base_uri": "https://localhost:8080/"
    },
    "executionInfo": {
     "elapsed": 1737,
     "status": "ok",
     "timestamp": 1616152498809,
     "user": {
      "displayName": "Marija Milutinović",
      "photoUrl": "https://lh3.googleusercontent.com/a-/AOh14GjTeRBI_pcdUQYABcM0Qc-dPYS1INYcfmaXqbUqWw=s64",
      "userId": "08163395735167004899"
     },
     "user_tz": -60
    },
    "id": "195ZInQbhjPm",
    "outputId": "f51c00d6-4600-4f60-9086-fc31b4345956"
   },
   "outputs": [
    {
     "name": "stdout",
     "output_type": "stream",
     "text": [
      "[[1 4]\n",
      " [2 5]\n",
      " [3 6]]\n",
      "(2, 3)\n",
      "6\n"
     ]
    }
   ],
   "source": [
    "print(np.transpose(C))\n",
    "print(C.shape)\n",
    "print(np.size(C))"
   ]
  },
  {
   "cell_type": "markdown",
   "metadata": {},
   "source": [
    "**Petlje i funkcije u Python-u**\n",
    "\n",
    "Formirati funkciju koja ispituje parnost brojeva iz intervala $[N_1, N_2]$. "
   ]
  },
  {
   "cell_type": "code",
   "execution_count": 6,
   "metadata": {},
   "outputs": [
    {
     "name": "stdout",
     "output_type": "stream",
     "text": [
      "Broj  5  je neparan!\n",
      "Broj  6  je paran!\n",
      "Broj  7  je neparan!\n",
      "Broj  8  je paran!\n",
      "Broj  9  je neparan!\n",
      "Broj  10  je paran!\n"
     ]
    }
   ],
   "source": [
    "def is_even(N1, N2):\n",
    "  numbers = np.arange(N1, N2 + 1)\n",
    "  isEven = 1 - np.mod(np.arange(N1, N2 + 1), 2)\n",
    "  \n",
    "  for k in range(len(isEven)): \n",
    "    if isEven[k] == 0: \n",
    "      print(\"Broj \" , str(numbers[k]), \" je neparan!\")\n",
    "    else:\n",
    "      print(\"Broj \" , str(numbers[k]), \" je paran!\")\n",
    "\n",
    "  return isEven \n",
    "\n",
    "if __name__ == \"__main__\": \n",
    "  N1 = 5; N2 = 10; \n",
    "  isEven = is_even(N1, N2) \n",
    "  #print(isEven)\n"
   ]
  },
  {
   "cell_type": "markdown",
   "metadata": {
    "id": "XQnyh9FeETFR"
   },
   "source": [
    "**Grafički prikaz signala**\n",
    "\n"
   ]
  },
  {
   "cell_type": "code",
   "execution_count": 7,
   "metadata": {
    "colab": {
     "base_uri": "https://localhost:8080/",
     "height": 295
    },
    "executionInfo": {
     "elapsed": 1165,
     "status": "ok",
     "timestamp": 1616152196693,
     "user": {
      "displayName": "Marija Milutinović",
      "photoUrl": "https://lh3.googleusercontent.com/a-/AOh14GjTeRBI_pcdUQYABcM0Qc-dPYS1INYcfmaXqbUqWw=s64",
      "userId": "08163395735167004899"
     },
     "user_tz": -60
    },
    "id": "xdsCLUB6EXqI",
    "outputId": "cca44bc6-49fe-4271-d7c4-15fff909051b"
   },
   "outputs": [
    {
     "data": {
      "image/png": "[encoded data removed]",
      "text/plain": [
       "<Figure size 432x288 with 2 Axes>"
      ]
     },
     "metadata": {
      "needs_background": "light"
     },
     "output_type": "display_data"
    }
   ],
   "source": [
    "t = np.linspace(0, 5, 1000)\n",
    "x = np.sin(t)\n",
    "y = np.cos(t)\n",
    "\n",
    "plt.figure()\n",
    "#plt.figure(figsize = (12, 12))\n",
    "plt.subplot(121)\n",
    "plt.plot(t, x)\n",
    "plt.xlabel('t [s]'); plt.ylabel('x(t)'); plt.grid(True); plt.title('Signal x(t)'); \n",
    "plt.subplot(122)\n",
    "plt.plot(t, y)\n",
    "plt.xlabel('t [s]'); plt.ylabel('y(t)'); plt.grid(True); plt.title('Signal y(t)'); "
   ]
  },
  {
   "cell_type": "markdown",
   "metadata": {},
   "source": [
    "**Random**"
   ]
  },
  {
   "cell_type": "code",
   "execution_count": 8,
   "metadata": {
    "id": "NwvWgEaxIx01"
   },
   "outputs": [
    {
     "data": {
      "text/plain": [
       "2.5805899050856675"
      ]
     },
     "execution_count": 8,
     "metadata": {},
     "output_type": "execute_result"
    }
   ],
   "source": [
    "random.random() * 10 - 5"
   ]
  },
  {
   "cell_type": "markdown",
   "metadata": {},
   "source": [
    "**Fitovanje**"
   ]
  },
  {
   "cell_type": "code",
   "execution_count": 9,
   "metadata": {},
   "outputs": [],
   "source": [
    "t = np.linspace(0, 60, 20)\n",
    "x_real = 2 * t + 1"
   ]
  },
  {
   "cell_type": "code",
   "execution_count": 10,
   "metadata": {},
   "outputs": [],
   "source": [
    "x_data = 2 * t + 1\n",
    "for i in range(len(x_data)):\n",
    "    x_data[i] += (random.random() * 10 - 5)"
   ]
  },
  {
   "cell_type": "code",
   "execution_count": 12,
   "metadata": {
    "colab": {
     "base_uri": "https://localhost:8080/"
    },
    "executionInfo": {
     "elapsed": 699,
     "status": "ok",
     "timestamp": 1616152003331,
     "user": {
      "displayName": "Marija Milutinović",
      "photoUrl": "https://lh3.googleusercontent.com/a-/AOh14GjTeRBI_pcdUQYABcM0Qc-dPYS1INYcfmaXqbUqWw=s64",
      "userId": "08163395735167004899"
     },
     "user_tz": -60
    },
    "id": "MmZU3BWVI9I9",
    "outputId": "c8e0ea59-2bf4-4e29-fa2b-0c89b96b1aec"
   },
   "outputs": [
    {
     "data": {
      "image/png": "[encoded data removed]",
      "text/plain": [
       "<Figure size 432x288 with 1 Axes>"
      ]
     },
     "metadata": {
      "needs_background": "light"
     },
     "output_type": "display_data"
    }
   ],
   "source": [
    "\n",
    "#plt.plot(t, x_real, c = 'r')\n",
    "plt.scatter(t, x_data)\n",
    "plt.xlabel('t [s]'); plt.ylabel('x(t)'); plt.grid(True); plt.title('Signal x(t)'); \n"
   ]
  },
  {
   "cell_type": "code",
   "execution_count": 24,
   "metadata": {},
   "outputs": [],
   "source": [
    "from scipy.optimize import curve_fit"
   ]
  },
  {
   "cell_type": "code",
   "execution_count": 25,
   "metadata": {},
   "outputs": [],
   "source": [
    "def f(x, a, b):\n",
    "\treturn a * x + b"
   ]
  },
  {
   "cell_type": "code",
   "execution_count": 26,
   "metadata": {},
   "outputs": [
    {
     "data": {
      "text/plain": [
       "array([2.01185815, 0.19946648])"
      ]
     },
     "execution_count": 26,
     "metadata": {},
     "output_type": "execute_result"
    }
   ],
   "source": [
    "popt, _ = curve_fit(f, t, x_data)\n",
    "popt"
   ]
  },
  {
   "cell_type": "code",
   "execution_count": 27,
   "metadata": {},
   "outputs": [],
   "source": [
    "a, b = popt\n",
    "x_fitted = f(t, a, b)"
   ]
  },
  {
   "cell_type": "code",
   "execution_count": 28,
   "metadata": {},
   "outputs": [
    {
     "data": {
      "image/png": "[encoded data removed]",
      "text/plain": [
       "<Figure size 432x288 with 1 Axes>"
      ]
     },
     "metadata": {
      "needs_background": "light"
     },
     "output_type": "display_data"
    }
   ],
   "source": [
    "plt.plot(t, x_real, c = 'r')\n",
    "plt.scatter(t, x_data)\n",
    "plt.plot(t, x_fitted, c = 'g')\n",
    "plt.xlabel('t [s]'); plt.ylabel('x(t)'); plt.grid(True); plt.title('Signal x(t)'); \n"
   ]
  },
  {
   "cell_type": "markdown",
   "metadata": {},
   "source": [
    "### Domaći"
   ]
  },
  {
   "cell_type": "code",
   "execution_count": null,
   "metadata": {},
   "outputs": [],
   "source": []
  }
 ],
 "metadata": {
  "colab": {
   "authorship_tag": "ABX9TyMs//Dk9QmSXVVZ9keifqPB",
   "collapsed_sections": [],
   "name": "13E053DOSR_Uvod_u_Python.ipynb",
   "provenance": []
  },
  "kernelspec": {
   "display_name": "Python 3",
   "language": "python",
   "name": "python3"
  },
  "language_info": {
   "codemirror_mode": {
    "name": "ipython",
    "version": 3
   },
   "file_extension": ".py",
   "mimetype": "text/x-python",
   "name": "python",
   "nbconvert_exporter": "python",
   "pygments_lexer": "ipython3",
   "version": "3.7.3"
  }
 },
 "nbformat": 4,
 "nbformat_minor": 1
}
