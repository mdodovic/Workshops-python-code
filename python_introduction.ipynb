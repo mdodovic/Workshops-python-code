{
 "cells": [
  {
   "cell_type": "markdown",
   "metadata": {},
   "source": [
    "**Učitavanje neophodnih modula za rad**"
   ]
  },
  {
   "cell_type": "code",
   "execution_count": 30,
   "metadata": {},
   "outputs": [],
   "source": [
    "# Komentar \n",
    "import numpy as np # Rad sa numpy nizovima i matematickim operacijama nad njima\n",
    "import matplotlib.pyplot as plt # Iscrtavanje grafika\n",
    "import math as math # Rad sa matematickim operacijama \n",
    "import random # Rad sa radnom brojevima\n",
    "from scipy.optimize import curve_fit # fitovanje\n",
    "import csv # rad sa fajlovima"
   ]
  },
  {
   "cell_type": "markdown",
   "metadata": {},
   "source": [
    "**Skalari i operacije**"
   ]
  },
  {
   "cell_type": "code",
   "execution_count": 31,
   "metadata": {},
   "outputs": [
    {
     "name": "stdout",
     "output_type": "stream",
     "text": [
      "True False 5 0.7071067811865476 1.0471975511965976 1.0471975511965976\n",
      "6\n",
      "7\n",
      "7.707106781186548 6.292893218813452 4.949747468305833 9.899494936611665 15\n"
     ]
    }
   ],
   "source": [
    "# Skalar\n",
    "logic_true = True\n",
    "logic_false = False\n",
    "a = 5\n",
    "b = np.sqrt(2)/2\n",
    "c = np.pi/3 \n",
    "d = (math.pi/3) \n",
    "\n",
    "print(logic_true, logic_false, a, b, c, d)\n",
    "\n",
    "a = a + 1\n",
    "print(a)\n",
    "a += 1\n",
    "print(a)\n",
    "\n",
    "# matematicke operacije\n",
    "\n",
    "plus = a + b\n",
    "minus = a - b\n",
    "mul = a * b\n",
    "div = a / b\n",
    "rem = 115 % 100\n",
    "\n",
    "print(plus, minus, mul, div, rem)"
   ]
  },
  {
   "cell_type": "markdown",
   "metadata": {},
   "source": [
    "**Matematičke funkcije**"
   ]
  },
  {
   "cell_type": "code",
   "execution_count": 32,
   "metadata": {},
   "outputs": [
    {
     "name": "stdout",
     "output_type": "stream",
     "text": [
      "1.0\n",
      "6.123233995736766e-17\n",
      "1.633123935319537e+16\n",
      "0.7853981633974484\n",
      "1.0\n",
      "2.0\n",
      "2.718281828459045\n",
      "8\n",
      "9.0\n"
     ]
    }
   ],
   "source": [
    "print(np.sin(np.pi / 2))\n",
    "print(np.cos(np.pi / 2))\n",
    "print(np.tan(np.pi / 2))\n",
    "print(np.arcsin(b))\n",
    "print(np.log(np.e))\n",
    "print(np.log10(100))\n",
    "print(np.exp(1))\n",
    "print(2 ** 3)\n",
    "print(81 ** (0.5))"
   ]
  },
  {
   "cell_type": "markdown",
   "metadata": {},
   "source": [
    "**Vektorski tip podataka**"
   ]
  },
  {
   "cell_type": "code",
   "execution_count": 33,
   "metadata": {},
   "outputs": [
    {
     "name": "stdout",
     "output_type": "stream",
     "text": [
      "[2, 3, 5, 6, 7]\n",
      "[0, 1, 2, 3, 4]\n",
      "[ 2  4  6  8 10]\n",
      "[ 2.  4.  6.  8. 10.]\n",
      "2\n",
      "5\n",
      "11\n",
      "5\n",
      "6\n",
      "[12, 3, 5, 6, 7, 8]\n"
     ]
    }
   ],
   "source": [
    "# Vektor - niz\n",
    "\n",
    "A1 = np.array([2, 4, 6, 8, 10]) # Elemente se moraju se odvojiti zarezima\n",
    "A2 = np.linspace(2, 10, 5)\n",
    "\n",
    "# Lista\n",
    "\n",
    "L1 = [2, 3, 5, 6, 7]\n",
    "L2 = list(range(5))\n",
    "\n",
    "print(L1)\n",
    "print(L2)\n",
    "\n",
    "print(A1)\n",
    "print(A2)\n",
    "print(A1[0])\n",
    "\n",
    "print(len(A1))\n",
    "A1[0] = 11 # izmena pojedinacnog elementa\n",
    "print(A1[0])\n",
    "\n",
    "print(len(L1))\n",
    "L1[0] = 12 # izmena pojedinacnog elementa\n",
    "L1.append(8)\n",
    "print(len(L1))\n",
    "print(L1)\n"
   ]
  },
  {
   "cell_type": "code",
   "execution_count": 34,
   "metadata": {},
   "outputs": [
    {
     "name": "stdout",
     "output_type": "stream",
     "text": [
      "[11  4  6  8 10]\n",
      "[22  8 12 16 20]\n",
      "[23  9 13 17 21]\n",
      "[11.  4.  6.  8. 10.]\n"
     ]
    }
   ],
   "source": [
    "print(A1)\n",
    "B1 = 2 * A1\n",
    "print(B1)\n",
    "B2 = B1 + 1\n",
    "print(B2)\n",
    "B3 = (B2 - 1) / 2\n",
    "print(B3) "
   ]
  },
  {
   "cell_type": "code",
   "execution_count": 35,
   "metadata": {},
   "outputs": [
    {
     "name": "stdout",
     "output_type": "stream",
     "text": [
      "[11  4  6  8 10]\n",
      "[22  8 12 16 20]\n",
      "[12, 3, 5, 6, 7, 8]\n",
      "[12, 3, 5, 6, 7, 8, 12, 3, 5, 6, 7, 8]\n"
     ]
    }
   ],
   "source": [
    "# Be carefull\n",
    "print(A1)\n",
    "B1 = 2 * A1\n",
    "print(B1)\n",
    "print(L1)\n",
    "new_L1 = 2 * L1\n",
    "print(new_L1)"
   ]
  },
  {
   "cell_type": "markdown",
   "metadata": {},
   "source": [
    "**Iteriranje**"
   ]
  },
  {
   "cell_type": "code",
   "execution_count": 36,
   "metadata": {},
   "outputs": [
    {
     "name": "stdout",
     "output_type": "stream",
     "text": [
      "0\n",
      "1\n",
      "2\n",
      "3\n",
      "4\n"
     ]
    }
   ],
   "source": [
    "# for ciklus\n",
    "# zna se broj elemenata\n",
    "for i in range(5):\n",
    "    print(i)"
   ]
  },
  {
   "cell_type": "code",
   "execution_count": 37,
   "metadata": {},
   "outputs": [
    {
     "name": "stdout",
     "output_type": "stream",
     "text": [
      "11\n",
      "4\n",
      "6\n",
      "8\n",
      "10\n"
     ]
    }
   ],
   "source": [
    "# iteriranje po indexima - izbegavati\n",
    "for i in range(len(A1)):\n",
    "    print(A1[i])"
   ]
  },
  {
   "cell_type": "code",
   "execution_count": 38,
   "metadata": {},
   "outputs": [
    {
     "name": "stdout",
     "output_type": "stream",
     "text": [
      "11\n",
      "4\n",
      "6\n",
      "8\n",
      "10\n"
     ]
    }
   ],
   "source": [
    "# iteriranje po objektima \n",
    "for x in A1:\n",
    "    print(x)"
   ]
  },
  {
   "cell_type": "code",
   "execution_count": 39,
   "metadata": {},
   "outputs": [
    {
     "name": "stdout",
     "output_type": "stream",
     "text": [
      "0\n",
      "2\n",
      "4\n",
      "6\n"
     ]
    }
   ],
   "source": [
    "# while ciklus\n",
    "\n",
    "N = 7\n",
    "i = 0\n",
    "while i <= N:\n",
    "    print(i)\n",
    "    i = i + 2\n"
   ]
  },
  {
   "cell_type": "markdown",
   "metadata": {},
   "source": [
    "**If**"
   ]
  },
  {
   "cell_type": "code",
   "execution_count": 40,
   "metadata": {},
   "outputs": [
    {
     "name": "stdout",
     "output_type": "stream",
     "text": [
      "OK\n"
     ]
    }
   ],
   "source": [
    "# osnovni if\n",
    "a = 5\n",
    "if a == 5:\n",
    "    print(\"OK\")\n",
    "else: \n",
    "    print(\"NOT OK\")"
   ]
  },
  {
   "cell_type": "code",
   "execution_count": 41,
   "metadata": {},
   "outputs": [
    {
     "name": "stdout",
     "output_type": "stream",
     "text": [
      "Odd\n"
     ]
    }
   ],
   "source": [
    "# paran-neparan\n",
    "a = 7\n",
    "if a % 2 == 0:\n",
    "    print(\"Even\")\n",
    "else:\n",
    "    print(\"Odd\")"
   ]
  },
  {
   "cell_type": "code",
   "execution_count": 42,
   "metadata": {},
   "outputs": [
    {
     "name": "stdout",
     "output_type": "stream",
     "text": [
      "greater than 5 and less than 10\n"
     ]
    }
   ],
   "source": [
    "a = 6\n",
    "if a < 5:\n",
    "    print(\"less than 5\")\n",
    "elif a >= 5 and a < 10:\n",
    "    print(\"greater than 5 and less than 10\")\n",
    "else:\n",
    "    print(\"greater than 10\")\n",
    "\n",
    "# a >= 5 condition ?"
   ]
  },
  {
   "cell_type": "markdown",
   "metadata": {},
   "source": [
    "**Funkcije**"
   ]
  },
  {
   "cell_type": "code",
   "execution_count": 43,
   "metadata": {},
   "outputs": [],
   "source": [
    "def is_even(x):\n",
    "    if x % 2 == 0:\n",
    "        return True\n",
    "    else:\n",
    "        return False\n"
   ]
  },
  {
   "cell_type": "code",
   "execution_count": 44,
   "metadata": {},
   "outputs": [
    {
     "name": "stdout",
     "output_type": "stream",
     "text": [
      "True\n"
     ]
    }
   ],
   "source": [
    "# Poziv funkcije\n",
    "print(is_even(4))"
   ]
  },
  {
   "cell_type": "markdown",
   "metadata": {},
   "source": [
    "**Plotovanje**"
   ]
  },
  {
   "cell_type": "code",
   "execution_count": 45,
   "metadata": {},
   "outputs": [
    {
     "data": {
      "image/png": "[encoded data removed]",
      "text/plain": [
       "<Figure size 432x288 with 1 Axes>"
      ]
     },
     "metadata": {
      "needs_background": "light"
     },
     "output_type": "display_data"
    }
   ],
   "source": [
    "# Linearna\n",
    "x = np.linspace(0, 10, 500)\n",
    "y = 2 * x + 1\n",
    "\n",
    "plt.figure()\n",
    "plt.plot(x, y)\n",
    "plt.xlabel('y'); \n",
    "plt.ylabel('x'); \n",
    "plt.title('Linearna funkcija'); \n",
    "plt.show()\n"
   ]
  },
  {
   "cell_type": "code",
   "execution_count": 46,
   "metadata": {},
   "outputs": [
    {
     "data": {
      "image/png": "[encoded data removed]",
      "text/plain": [
       "<Figure size 432x288 with 1 Axes>"
      ]
     },
     "metadata": {
      "needs_background": "light"
     },
     "output_type": "display_data"
    }
   ],
   "source": [
    "# Sinusoida\n",
    "t = np.linspace(0, 15, 1000)\n",
    "x = np.sin(t)\n",
    "\n",
    "plt.figure()\n",
    "plt.plot(t, x)\n",
    "plt.xlabel('t [s]'); \n",
    "plt.ylabel('x(t)'); \n",
    "plt.grid(True); \n",
    "plt.title('Signal x(t)'); \n",
    "plt.show()\n"
   ]
  },
  {
   "cell_type": "markdown",
   "metadata": {},
   "source": [
    "**Random**"
   ]
  },
  {
   "cell_type": "code",
   "execution_count": 47,
   "metadata": {},
   "outputs": [
    {
     "name": "stdout",
     "output_type": "stream",
     "text": [
      "0.21303056026349088\n"
     ]
    }
   ],
   "source": [
    "print(random.random())"
   ]
  },
  {
   "cell_type": "code",
   "execution_count": 48,
   "metadata": {},
   "outputs": [
    {
     "name": "stdout",
     "output_type": "stream",
     "text": [
      "-1.8970503785709312\n"
     ]
    }
   ],
   "source": [
    "print(random.random() * 10 - 5)"
   ]
  },
  {
   "cell_type": "markdown",
   "metadata": {},
   "source": [
    "**Priprema podataka**"
   ]
  },
  {
   "cell_type": "code",
   "execution_count": 49,
   "metadata": {},
   "outputs": [],
   "source": [
    "# Podaci - ovo inace nemamo!\n",
    "\n",
    "t = np.linspace(0, 60, 20)\n",
    "x_real = 2 * t + 1\n",
    "\n",
    "x_data = 2 * t + 1\n",
    "for i in range(len(x_data)):\n",
    "    x_data[i] += (random.random() * 10 - 5)"
   ]
  },
  {
   "cell_type": "markdown",
   "metadata": {},
   "source": [
    "**Fajlovi**"
   ]
  },
  {
   "cell_type": "code",
   "execution_count": 50,
   "metadata": {},
   "outputs": [],
   "source": [
    "# upis u fajl\n",
    "path_to_data ='python_introduction_files/data.csv'\n",
    "\n",
    "\n",
    "data = []\n",
    "\n",
    "for i in range(len(t)):\n",
    "    data.append([t[i], x_data[i]])\n",
    "\n",
    "with open(path_to_data, 'w', encoding='UTF8', newline='') as f:\n",
    "    writer = csv.writer(f)\n",
    "\n",
    "    # write multiple rows\n",
    "    writer.writerows(data)"
   ]
  },
  {
   "cell_type": "code",
   "execution_count": 51,
   "metadata": {},
   "outputs": [],
   "source": [
    "# ucitavanje iz fajla\n",
    "\n",
    "time, f_time = np.loadtxt(path_to_data, dtype='float,float', delimiter=',', unpack=True)\n",
    "\n"
   ]
  },
  {
   "cell_type": "code",
   "execution_count": 52,
   "metadata": {},
   "outputs": [
    {
     "data": {
      "image/png": "[encoded data removed]",
      "text/plain": [
       "<Figure size 432x288 with 1 Axes>"
      ]
     },
     "metadata": {
      "needs_background": "light"
     },
     "output_type": "display_data"
    }
   ],
   "source": [
    "# Ovo je problem koji resavamo\n",
    "plt.scatter(time, f_time)\n",
    "plt.xlabel('t [s]')\n",
    "plt.ylabel('x(t)'); \n",
    "plt.title('Podaci'); \n"
   ]
  },
  {
   "cell_type": "code",
   "execution_count": 53,
   "metadata": {},
   "outputs": [],
   "source": [
    "# Model - ovo nam daje teorija, pregled podataka, intuicija, ...\n",
    "# Ovde je model linearan\n",
    "\n",
    "def model(x, a, b):\n",
    "\treturn a * x + b"
   ]
  },
  {
   "cell_type": "code",
   "execution_count": 54,
   "metadata": {},
   "outputs": [
    {
     "data": {
      "text/plain": [
       "array([2.01530591, 0.56289635])"
      ]
     },
     "execution_count": 54,
     "metadata": {},
     "output_type": "execute_result"
    }
   ],
   "source": [
    "\n",
    "popt, _ = curve_fit(model, time, f_time)\n",
    "popt"
   ]
  },
  {
   "cell_type": "code",
   "execution_count": 55,
   "metadata": {},
   "outputs": [],
   "source": [
    "a, b = popt\n",
    "x_fitted = model(t, a, b)"
   ]
  },
  {
   "cell_type": "code",
   "execution_count": 56,
   "metadata": {},
   "outputs": [
    {
     "data": {
      "image/png": "[encoded data removed]",
      "text/plain": [
       "<Figure size 432x288 with 1 Axes>"
      ]
     },
     "metadata": {
      "needs_background": "light"
     },
     "output_type": "display_data"
    }
   ],
   "source": [
    "path_to_image = \"python_introduction_files/fit.png\"\n",
    "plt.scatter(time, f_time)\n",
    "plt.plot(time, x_real, c = 'r')\n",
    "plt.plot(time, x_fitted, c = 'g')\n",
    "plt.xlabel('t [s]'); \n",
    "plt.ylabel('x(t)'); \n",
    "plt.title('Signal x(t)'); \n",
    "plt.legend(['real function', 'fit'])\n",
    "plt.savefig(path_to_image, dpi = 90)"
   ]
  },
  {
   "cell_type": "code",
   "execution_count": null,
   "metadata": {},
   "outputs": [],
   "source": []
  }
 ],
 "metadata": {
  "interpreter": {
   "hash": "e032df77192edad6a6bb48fb5c48af0053ec18d334a4fa08da8a436c45f7ed29"
  },
  "kernelspec": {
   "display_name": "Python 3.9.7 64-bit (windows store)",
   "name": "python3"
  },
  "language_info": {
   "codemirror_mode": {
    "name": "ipython",
    "version": 3
   },
   "file_extension": ".py",
   "mimetype": "text/x-python",
   "name": "python",
   "nbconvert_exporter": "python",
   "pygments_lexer": "ipython3",
   "version": "3.9.7"
  },
  "orig_nbformat": 4
 },
 "nbformat": 4,
 "nbformat_minor": 2
}
